{
  "nbformat": 4,
  "nbformat_minor": 0,
  "metadata": {
    "colab": {
      "provenance": []
    },
    "kernelspec": {
      "name": "python3",
      "display_name": "Python 3"
    },
    "language_info": {
      "name": "python"
    }
  },
  "cells": [
    {
      "cell_type": "markdown",
      "source": [
        "#  Python OOPs"
      ],
      "metadata": {
        "id": "0_t3ry-WoLNC"
      }
    },
    {
      "cell_type": "markdown",
      "source": [
        "1.  What is Object-Oriented Programming (OOP)?\n",
        "-  Object-Oriented Programming (OOP) is a programming paradigm based on the concept of \"objects.\" These objects are instances of classes and contain both data (attributes) and functions (methods) that operate on the data. OOP is widely used in software development because it promotes modularity, reusability, and organization.\n"
      ],
      "metadata": {
        "id": "JaXY382JoRre"
      }
    },
    {
      "cell_type": "markdown",
      "source": [
        "2. What is a class in OOP?\n",
        "-  In Object-Oriented Programming (OOP), a class is a blueprint for creating objects. It defines the attributes (data) and behaviors (methods) that objects of that class will have.\n",
        "-  Key Aspects of a Class:\n",
        "--  Attributes – Variables that store object-specific data.\n",
        "-- Methods – Functions that define the object's behavior.\n",
        "-- Encapsulation – Combines attributes and methods into a single unit.\n"
      ],
      "metadata": {
        "id": "XKmdgrnUo4Tm"
      }
    },
    {
      "cell_type": "markdown",
      "source": [
        "3. What is an object in OOP?\n",
        "-  In Object-Oriented Programming (OOP), an object is a fundamental building block that represents a real-world entity or concept. It is an instance of a class, which acts as a blueprint for creating objects.\n",
        "- An object has:\n",
        "- Attributes (or properties): These define the characteristics of the object, stored in variables. For example, a Car object might have attributes like color, model, and speed.\n",
        "- Methods (or behaviors): These are functions that define what an object can do. For instance, a Car object might have methods like accelerate(), brake(), or honk().\n"
      ],
      "metadata": {
        "id": "rLfgy6ecpkTT"
      }
    },
    {
      "cell_type": "markdown",
      "source": [
        "4. What is the difference between abstraction and encapsulation?\n",
        "-  Abstraction:\n",
        "Abstraction is a design-level process that focuses on hiding complex implementation details and presenting only the necessary functionality to the user. It simplifies the user's perspective by providing a high-level view of the system, focusing on the \"what\" rather than the \"how\". For example, a car's steering wheel and pedals are abstract representations of the complex engine and driving mechanisms.\n",
        "-Encapsulation:\n",
        "Encapsulation is an implementation-level process that bundles data and methods that operate on that data within a single unit. It restricts direct access to the internal components, protecting the data and ensuring data integrity. For example, in a car, the internal components of the engine are encapsulated under the hood, hiding them from the user."
      ],
      "metadata": {
        "id": "ZhB-uO63uBUc"
      }
    },
    {
      "cell_type": "markdown",
      "source": [
        "5. What are dunder methods in Python?\n",
        "-  Dunder methods, also known as magic methods, are special methods in Python that begin and end with double underscores (e.g., __init__, __str__, __len__). They provide a way to define how objects of a class should behave with built-in operators and functions.\n",
        "These methods enable operator overloading, allowing custom classes to support operations like addition, subtraction, comparison, and more. When a built-in function or operator is used with an object, Python automatically calls the corresponding dunder method defined in the object's class. For instance, using the + operator between two objects will invoke the __add__ method of the class."
      ],
      "metadata": {
        "id": "uRtFvwXguayN"
      }
    },
    {
      "cell_type": "markdown",
      "source": [
        "6.  Explain the concept of inheritance in OOPH\n",
        "-  Inheritance in object-oriented programming (OOP) is a mechanism that allows a class (called a subclass or derived class) to inherit properties and behaviors from another class (called a superclass or base class). This promotes code reuse, establishes hierarchical relationships between classes, and simplifies the development process.\n",
        "-Key Concepts:\n",
        "-- Subclass (Derived Class): The class that inherits properties and behaviors from another class.\n",
        "-- Superclass (Base Class): The class that is inherited from.\n",
        "-- Inheritance: The process of a class inheriting properties and behaviors from another class."
      ],
      "metadata": {
        "id": "oL5NmB8Au6BF"
      }
    },
    {
      "cell_type": "markdown",
      "source": [
        "7. What is polymorphism in OOP?\n",
        "-  Polymorphism is a key concept in Object-Oriented Programming (OOP) that allows objects to be treated as instances of their parent class while behaving differently depending on their actual type. In simple terms, it enables one interface to be used for different implementations.\n",
        "Key Features of Polymorphism:\n",
        "- Method Overloading – Same method name, different parameters.\n",
        "- Method Overriding – Same method name and parameters, but different behavior in child classes.\n",
        "- Operator Overloading – Redefining operators for custom behavior."
      ],
      "metadata": {
        "id": "yT6nBGSrwJ5t"
      }
    },
    {
      "cell_type": "markdown",
      "source": [
        "9. What is a constructor in Python?\n",
        "-  A constructor in Python is a special method used to initialize objects of a class. It is automatically called when an object of the class is created. The constructor's main purpose is to set up the initial state of the object by assigning values to its attributes or performing other setup actions. In Python, the constructor method is named __init__.\n"
      ],
      "metadata": {
        "id": "UVlq3o0Yw0pn"
      }
    },
    {
      "cell_type": "markdown",
      "source": [
        "10. What are class and static methods in Python?\n",
        "-  In Python, class methods and static methods are special types of methods defined within a class that differ in how they are called and the arguments they receive.\n",
        "-Class methods:\n",
        "-- They are bound to the class and not the instance of the class.\n",
        "-- They receive the class itself as the first argument, conventionally named cls.\n",
        "-- They can access and modify class-level attributes.\n",
        "-- They are defined using the @classmethod decorator.\n",
        "-- They are called using the class name or an instance of the class.\n",
        "-Static methods:\n",
        "-- They are also bound to the class and not the instance of the class.\n",
        "-- They do not receive any implicit arguments.\n",
        "-- They cannot access or modify class-level or instance-level attributes directly.\n",
        "-- They are defined using the @staticmethod decorator.\n",
        "-- They are called using the class name or an instance of the class."
      ],
      "metadata": {
        "id": "fuePNK_wxFr2"
      }
    },
    {
      "cell_type": "markdown",
      "source": [
        "11.  What is method overloading in Python?\n",
        "-  Method overloading in Python refers to the ability to define multiple methods in a class with the same name but different parameters. However, Python does not support traditional method overloading in the same way as languages like Java or C++. In Python, if you define multiple methods with the same name, the last defined method will override any previous definitions.\n",
        "\n",
        "\n",
        "\n",
        "\n",
        "To achieve the effect of method overloading in Python, you can use default arguments or variable-length argument lists (*args and **kwargs). By using these techniques, you can create methods that can handle different numbers or types of arguments.\n"
      ],
      "metadata": {
        "id": "2E1Pn-TjxmLm"
      }
    },
    {
      "cell_type": "markdown",
      "source": [
        "12. What is method overriding in OOP?\n",
        "-  Method Overriding in OOP\n",
        "Method overriding is a concept in Object-Oriented Programming (OOP) where a child class provides a specific implementation of a method that is already defined in its parent class. This allows the child class to modify or extend the behavior of the inherited method.\n",
        "Key Features:\n",
        "- Same method name & parameters as the parent class.\n",
        "- Changes the behavior of the inherited method in the child class.\n",
        "- Achieved using inheritance—the child class inherits the parent class and overrides its methods.\n",
        "- Commonly used for implementing polymorphism.\n"
      ],
      "metadata": {
        "id": "KXNlhJURx6wW"
      }
    },
    {
      "cell_type": "markdown",
      "source": [
        "13. What is a property decorator in Python?\n",
        "-  In Python, a property decorator is a built-in feature that allows methods to be accessed like attributes. It provides a way to encapsulate attribute access and modification with custom logic, such as validation or computation, without requiring explicit getter and setter methods. The @property decorator is used to define the \"getter\" method, while the @<property_name>.setter decorator is used for the \"setter\" and @<property_name>.deleter for the \"deleter\".\n"
      ],
      "metadata": {
        "id": "IJjizx0UySDL"
      }
    },
    {
      "cell_type": "markdown",
      "source": [
        "14. Why is polymorphism important in OOP?\n",
        "-  Importance of Polymorphism in OOP\n",
        "-- Polymorphism is crucial in Object-Oriented Programming (OOP) because it enhances flexibility, reusability, and scalability in code. It allows different classes to share the same interface but implement behaviors differently, making software design more efficient.\n",
        "-Key Benefits of Polymorphism:\n",
        "-- Improves Code Reusability – One interface can handle multiple implementations, reducing code duplication.\n",
        "-- Enhances Maintainability – Changes in the parent class automatically reflect in child classes, making modifications easier.\n",
        "-- Supports Dynamic Behavior – Methods behave differently based on the object calling them, allowing flexibility.\n",
        "-- Encourages Loose Coupling – Reduces dependencies between classes, improving modularity.\n",
        "-- Simplifies Code – Eliminates long conditional statements by allowing objects to override methods.\n"
      ],
      "metadata": {
        "id": "g5q84HPMym7O"
      }
    },
    {
      "cell_type": "markdown",
      "source": [
        "15. What is an abstract class in Python?\n",
        "-  An abstract class in Python is a class that cannot be instantiated directly and serves as a blueprint for other classes. It defines a common interface for its subclasses, ensuring that they implement specific methods. Abstract classes are created using the abc module and the ABCMeta metaclass or the ABC helper class. They can contain abstract methods, which are declared but do not have an implementation in the abstract class. Subclasses of an abstract class must provide concrete implementations for all abstract methods. If a subclass does not implement all abstract methods, it also becomes an abstract class."
      ],
      "metadata": {
        "id": "a8Fkh_H1zReu"
      }
    },
    {
      "cell_type": "markdown",
      "source": [
        "16. What are the advantages of OOP?\n",
        "-  Advantages of Object-Oriented Programming (OOP)\n",
        "Object-Oriented Programming (OOP) provides a structured and efficient approach to software development, offering several benefits over procedural programming.\n",
        " -  Here’s why OOP is widely used:\n",
        "1. Code Reusability (Inheritance)\n",
        " - Inheritance allows a child class to use properties and methods of a parent class, reducing code duplication.\n",
        " - Saves development time by reusing existing functionalities.\n",
        "\n",
        "2. Data Security (Encapsulation)\n",
        " - Data is protected from unintended modifications using private attributes and controlled access methods.\n",
        " - Prevents unauthorized access by restricting direct modification of sensitive variables.\n",
        "\n",
        "3. Flexibility (Polymorphism)\n",
        " - One interface, multiple implementations—objects can behave differently even if they share the same method name.\n",
        " - Helps in writing scalable and adaptable code.\n",
        "\n",
        "4. Modularity & Maintainability\n",
        " - Code is divided into small reusable classes instead of long procedural code.\n",
        " - Changes can be made locally without affecting the entire program, improving maintainability.\n",
        "\n",
        "5. Scalability\n",
        " - As projects grow, OOP makes it easier to extend functionality without disrupting existing code.\n",
        " - Companies use OOP for large-scale applications like banking systems, game development, and machine learning.\n",
        "\n",
        "6. Real-World Modeling\n",
        " - OOP mirrors the way real-world entities interact—objects represent things like cars, people, or transactions.\n",
        " - Makes problem-solving more intuitive and enhances program design.\n",
        "\n",
        "7. Improved Collaboration\n",
        " - Teams can work on different classes independently without interfering with others.\n",
        " - Encourages modular software development, useful in large projects.\n"
      ],
      "metadata": {
        "id": "vSBe_sJPze2L"
      }
    },
    {
      "cell_type": "markdown",
      "source": [
        "17. What is the difference between a class variable and an instance variable?\n",
        "-  Class Variable vs. Instance Variable in Python\n",
        "Class variables and instance variables are two types of attributes in object-oriented programming (OOP), specifically in Python. They serve different purposes in how data is stored and accessed within a class.\n",
        "\n",
        "1. Class Variables\n",
        " - Shared among all instances of a class.\n",
        " - Defined inside the class but outside any methods.\n",
        " - Changes to a class variable affect all instances of the class.\n",
        "\n",
        "2. Instance Variables\n",
        " - Unique to each object—each instance has its own copy.\n",
        " - Defined inside the constructor (__init__) using self.\n",
        " - Changes only affect the specific instance, not other objects\n"
      ],
      "metadata": {
        "id": "ruAjeQ5T0azl"
      }
    },
    {
      "cell_type": "markdown",
      "source": [
        "18. What is multiple inheritance in Python?\n",
        "-  Multiple Inheritance in Python\n",
        "Multiple inheritance is an Object-Oriented Programming (OOP) concept where a child class inherits from more than one parent class. This allows the child class to access attributes and methods from multiple sources, making code more flexible.\n",
        "\n",
        "- How Multiple Inheritance Works\n",
        " - A class can inherit properties and behaviors from two or more parent classes.\n",
        " - If multiple parents have the same method name, Python follows the Method Resolution Order (MRO) to determine which method gets executed.\n",
        " - Helps in cases where a child class needs features from different unrelated classes.\n"
      ],
      "metadata": {
        "id": "2oysFElE1HPo"
      }
    },
    {
      "cell_type": "markdown",
      "source": [
        "19. Explain the purpose of ‘’__str__’ and ‘__repr__’ ‘ methods in Python\n",
        "-  In Python, the __str__ and __repr__ methods are special methods used to define how objects are represented as strings. They are automatically called in specific situations, allowing customization of the string representation of objects.\n",
        "- __str__(self): This method is used to define a human-readable, or informal, string representation of an object. It is called by the built-in str() function and implicitly when using print() on an object. The purpose of __str__ is to provide a user-friendly string output.\n",
        "- __repr__(self): This method is used to define a more technical, or formal, string representation of an object. It is called by the built-in repr() function and in the interactive interpreter when an object is evaluated. The purpose of __repr__ is to provide an unambiguous string representation that, ideally, can be used to recreate the object.\n",
        "- In essence, __str__ is for end-users, while __repr__ is for developers and debugging. If __str__ is not defined for a class, Python will fall back to using __repr__ when str() or print() is called. It is generally recommended to implement both methods to provide clear and useful string representations for objects in different contexts."
      ],
      "metadata": {
        "id": "HPiCFeZb1liE"
      }
    },
    {
      "cell_type": "markdown",
      "source": [
        "20. What is the significance of the ‘super()’ function in Python?\n",
        "-  The super() function in Python is used to call methods from a parent class in a subclass. It returns a proxy object that allows the subclass to access the parent's methods, enabling method overriding and code reuse within inheritance hierarchies. This is particularly useful for initializing parent class attributes and extending the functionality of inherited methods.\n",
        "-When super() is called without arguments inside a class method, it automatically refers to the superclass of that class and the instance (self) of the method. It is often used in the __init__ method of a subclass to ensure that the parent class's initialization logic is executed.\n",
        "Python\n",
        "-In multiple inheritance scenarios, super() follows the method resolution order (MRO) to determine the order in which parent class methods are called. This ensures a consistent and predictable execution of methods in complex inheritance structures"
      ],
      "metadata": {
        "id": "I91ToKbH2ChG"
      }
    },
    {
      "cell_type": "markdown",
      "source": [
        "21. What is the significance of the __del__ method in Python?\n",
        "-  Significance of the __del__ Method in Python\n",
        "The __del__ method in Python is a destructor used to perform clean-up operations when an object is deleted or goes out of scope. It helps in managing resources like files, database connections, or memory by ensuring proper disposal when an object is no longer needed.\n",
        "\n",
        "- Key Uses of __del__\n",
        " - Automatic Cleanup – Ensures resources (like files or network connections) are properly closed when an object is deleted.\n",
        " - Garbage Collection Assistance – Helps in freeing memory when objects go out of scope.\n",
        " - Debugging & Logging – Can be used to track when objects are destroyed.\n"
      ],
      "metadata": {
        "id": "iBKz__Tw6X9a"
      }
    },
    {
      "cell_type": "markdown",
      "source": [
        "22. What is the difference between @staticmethod and @classmethod in Python?\n",
        "-  The difference between @staticmethod and @classmethod in Python lies in their relationship to the class and its instances:\n",
        "-@staticmethod:\n",
        " - It is a function bound to the class and does not receive the class or instance as an implicit first argument.\n",
        " - It behaves like a regular function defined outside the class, but it is logically grouped within the class.\n",
        " - It cannot access or modify the class state or instance state.\n",
        " - It is used for utility functions that are related to the class but do not need access to its internals.\n",
        "-@classmethod:\n",
        " - It is a method bound to the class and receives the class itself as the first argument (cls).\n",
        " - It can access and modify the class state but cannot access the instance state directly.\n",
        " - It is used for factory methods, alternative constructors, or when you need to perform actions that affect the class as a whole."
      ],
      "metadata": {
        "id": "7q3BFi4Z61KC"
      }
    },
    {
      "cell_type": "markdown",
      "source": [
        "23. How does polymorphism work in Python with inheritance?\n",
        "-  Polymorphism, meaning \"many forms,\" enables objects of different classes to respond to the same method call in their own specific ways. In Python, inheritance plays a key role in achieving polymorphism through a mechanism called method overriding.\n",
        "-When a subclass inherits from a parent class, it can redefine methods inherited from the parent. This is known as method overriding. When a method is called on an object, Python checks the object's class for the method. If the method is found in the object's class, it is executed. If not, Python searches for the method in the parent class and so on up the inheritance hierarchy. This mechanism allows a subclass to provide its own implementation of a method that is already defined in its parent class."
      ],
      "metadata": {
        "id": "V9kLdXBf7j4R"
      }
    },
    {
      "cell_type": "markdown",
      "source": [
        "24. What is method chaining in Python OOP?\n",
        "-  Method Chaining in Python OOP\n",
        "Method chaining is a technique in Object-Oriented Programming (OOP) where multiple methods are called sequentially on the same object within a single statement. This improves readability, reduces redundant variable assignments, and enhances code fluency.\n",
        "\n",
        "- How Method Chaining Works\n",
        " - Each method returns the same object (self) instead of a new object.\n",
        " - This allows methods to be linked together using dot notation.\n",
        " - Used frequently in data processing, fluent APIs, and object builders.\n",
        "\n",
        "- Advantages of Method Chaining\n",
        " - Reduces variable assignments – No need for intermediate variables.\n",
        " - Improves readability – Code becomes more fluent.\n",
        " - Supports dynamic operations – Useful in APIs and object manipulation.\n",
        " - Encourages concise coding – Makes code less cluttered.\n",
        "\n",
        "- Best Practices\n",
        " - Always return self in methods intended for chaining.\n",
        " - Use method chaining for object modification, not for actions like printing or saving to files.\n",
        " - Avoid excessively long chains, which can make debugging harder.\n"
      ],
      "metadata": {
        "id": "1jRj7aop79s6"
      }
    },
    {
      "cell_type": "markdown",
      "source": [
        "25. What is the purpose of the __call__ method in Python?\n",
        "-  Purpose of the __call__ Method in Python\n",
        "The __call__ method in Python allows an instance of a class to be called like a function. When an object of a class has __call__() defined, invoking the object with parentheses () automatically triggers this method.\n",
        "\n",
        "- Why Use __call__()?\n",
        " - Makes objects behave like functions, improving flexibility.\n",
        " - Encapsulates behavior, allowing objects to store logic dynamically.\n",
        " - Useful in decorators, making instances callable.\n",
        " - Enhances readability, eliminating the need for explicit method calls.\n",
        "\n",
        "- Use Case: Function-like Objects (Functors)\n",
        " - Used in machine learning models where objects store computation logic.\n",
        " - Enhances decorator implementations, enabling dynamic execution.\n",
        " - Simplifies object-based function calls for better modularity.\n",
        "\n",
        "- Best Practices\n",
        " -  Use __call__() when an object logically behaves like a function.\n",
        " - Avoid overusing it—regular methods might be more intuitive for certain cases.\n",
        " - Combine it with other OOP principles like encapsulation for better design.\n"
      ],
      "metadata": {
        "id": "8MJSoLCw8jtq"
      }
    },
    {
      "cell_type": "code",
      "execution_count": 2,
      "metadata": {
        "id": "FkM55Fcbnhij"
      },
      "outputs": [],
      "source": [
        "# Create a parent class Animal with a method speak() that prints a generic message. Create a child class Dog that overrides the speak() method to print \"Bark!\".\n",
        "\n",
        "class Animal:\n",
        "    def speak(self):\n",
        "        print(\"The animal makes a sound.\")\n",
        "\n",
        "class Dog(Animal):\n",
        "    def speak(self):\n",
        "        print(\"Bark!\")\n",
        "\n",
        "animal = Animal()\n",
        "dog = Dog()\n",
        "\n"
      ]
    },
    {
      "cell_type": "code",
      "source": [
        "# Write a program to create an abstract class Shape with a method area(). Derive classes Circle and Rectangle from it and implement the area() method in both.\n",
        "from abc import ABC, abstractmethod\n",
        "\n",
        "class Shape(ABC):\n",
        "    @abstractmethod\n",
        "    def area(self):\n",
        "        pass\n",
        "\n",
        "class Circle(Shape):\n",
        "    def __init__(self, radius):\n",
        "        self.radius = radius\n",
        "\n",
        "    def area(self):\n",
        "        return 3.14 * self.radius ** 2\n",
        "\n",
        "class Rectangle(Shape):\n",
        "    def __init__(self, length, width):\n",
        "        self.length = length\n",
        "        self.width = width\n",
        "\n",
        "    def area(self):\n",
        "        return self.length * self.width\n",
        "\n",
        "circle = Circle(5)\n",
        "rectangle = Rectangle(4, 6)\n",
        "\n",
        "print(f\"Circle Area: {circle.area()}\")\n",
        "print(f\"Rectangle Area: {rectangle.area()}\")\n"
      ],
      "metadata": {
        "colab": {
          "base_uri": "https://localhost:8080/"
        },
        "id": "WPeyehW69xmU",
        "outputId": "6c80715b-40a8-42ab-a72f-ec4f6fb09127"
      },
      "execution_count": 6,
      "outputs": [
        {
          "output_type": "stream",
          "name": "stdout",
          "text": [
            "Circle Area: 78.5\n",
            "Rectangle Area: 24\n"
          ]
        }
      ]
    },
    {
      "cell_type": "code",
      "source": [
        "#  Implement a multi-level inheritance scenario where a class Vehicle has an attribute type. Derive a class Car and further derive a class ElectricCar that adds a battery attribute.\n",
        "class Vehicle:\n",
        "    def __init__(self, vehicle_type):\n",
        "        self.vehicle_type = vehicle_type\n",
        "\n",
        "    def show_type(self):\n",
        "        print(f\"Vehicle Type: {self.vehicle_type}\")\n",
        "\n",
        "class Car(Vehicle):\n",
        "    def __init__(self, brand, model, vehicle_type=\"Car\"):\n",
        "        super().__init__(vehicle_type)\n",
        "        self.brand = brand\n",
        "        self.model = model\n",
        "\n",
        "    def show_details(self):\n",
        "        print(f\"Brand: {self.brand}, Model: {self.model}\")\n",
        "\n",
        "class ElectricCar(Car):\n",
        "    def __init__(self, brand, model, battery_capacity):\n",
        "        super().__init__(brand, model)\n",
        "        self.battery_capacity = battery_capacity\n",
        "\n",
        "    def show_battery(self):\n",
        "        print(f\"Battery Capacity: {self.battery_capacity} kWh\")\n",
        "\n",
        "ev = ElectricCar(\"Mahindra\", \"BE 6E\", 79)\n",
        "\n",
        "ev.show_type()\n",
        "ev.show_details()\n",
        "ev.show_battery()"
      ],
      "metadata": {
        "colab": {
          "base_uri": "https://localhost:8080/"
        },
        "id": "QoqnBTKp_sdZ",
        "outputId": "185ef9a1-58bc-459d-f308-db624e2a2582"
      },
      "execution_count": 14,
      "outputs": [
        {
          "output_type": "stream",
          "name": "stdout",
          "text": [
            "Vehicle Type: Car\n",
            "Brand: Mahindra, Model: BE 6E\n",
            "Battery Capacity: 79 kWh\n"
          ]
        }
      ]
    },
    {
      "cell_type": "code",
      "source": [
        "# Demonstrate polymorphism by creating a base class Bird with a method fly(). Create two derived classes Sparrow and Penguin that override the fly() method.\n",
        "class Bird:\n",
        "    def fly(self):\n",
        "        return \"Birds can fly.\"\n",
        "\n",
        "class Sparrow(Bird):\n",
        "    def fly(self):\n",
        "        return \"Sparrows can fly at high speeds.\"\n",
        "\n",
        "class Penguin(Bird):\n",
        "    def fly(self):\n",
        "        return \"Penguins cannot fly, but they swim gracefully!\"\n",
        "\n",
        "birds = [Sparrow(), Penguin(), Bird()]\n",
        "\n",
        "for bird in birds:\n",
        "    print(bird.fly())\n"
      ],
      "metadata": {
        "colab": {
          "base_uri": "https://localhost:8080/"
        },
        "id": "6jajxLK6BliG",
        "outputId": "3c6c6064-72db-46e4-9371-5d2350a0df1a"
      },
      "execution_count": 15,
      "outputs": [
        {
          "output_type": "stream",
          "name": "stdout",
          "text": [
            "Sparrows can fly at high speeds.\n",
            "Penguins cannot fly, but they swim gracefully!\n",
            "Birds can fly.\n"
          ]
        }
      ]
    },
    {
      "cell_type": "code",
      "source": [
        "#  Write a program to demonstrate encapsulation by creating a class BankAccount with private attributes balance and methods to deposit, withdraw, and check balance.\n",
        "class BankAccount:\n",
        "    def __init__(self, initial_balance):\n",
        "        self._balance = initial_balance\n",
        "        def deposit(self, amount):\n",
        "\n",
        "         if amount > 0:\n",
        "            self.__balance += amount\n",
        "            print(f\"Deposited: ${amount}\")\n",
        "         else:\n",
        "            print(\"Deposit amount must be positive.\")\n",
        "\n",
        "    def withdraw(self, amount):\n",
        "        if 0 < amount <= self.__balance:\n",
        "            self.__balance -= amount\n",
        "            print(f\"Withdrawn: ${amount}\")\n",
        "        else:\n",
        "            print(\"Insufficient balance or invalid amount.\")\n",
        "\n",
        "    def get_balance(self):\n",
        "        return f\"Current Balance: ${self.__balance}\"\n",
        "\n",
        "\n"
      ],
      "metadata": {
        "id": "Mpn2HmFUDIT1"
      },
      "execution_count": 20,
      "outputs": []
    },
    {
      "cell_type": "code",
      "source": [
        "# Demonstrate runtime polymorphism using a method play() in a base class Instrument. Derive classes Guitar and Piano that implement their own version of play().\n",
        "\n",
        "class Instrument:\n",
        "    def play(self):\n",
        "        return \"Playing an instrument.\"\n",
        "\n",
        "class Guitar(Instrument):\n",
        "    def play(self):\n",
        "        return \"Strumming the guitar!\"\n",
        "\n",
        "class Piano(Instrument):\n",
        "    def play(self):\n",
        "        return \"Playing the piano keys!\"\n",
        "\n",
        "def perform(instrument):\n",
        "    print(instrument.play())\n",
        "\n",
        "instruments = [Guitar(), Piano(), Instrument()]\n",
        "\n",
        "for instrument in instruments:\n",
        "    perform(instrument)"
      ],
      "metadata": {
        "id": "0YM3slizD4zU"
      },
      "execution_count": null,
      "outputs": []
    },
    {
      "cell_type": "code",
      "source": [
        "#  Create a class MathOperations with a class method add_numbers() to add two numbers and a static method subtract_numbers() to subtract two numbers.\n",
        "\n",
        "class MathOperations:\n",
        "    @classmethod\n",
        "    def add_numbers(cls, num1, num2):\n",
        "        return num1 + num2\n",
        "\n",
        "    @staticmethod\n",
        "    def subtract_numbers(num1, num2):\n",
        "        return num1 - num2\n",
        "\n",
        "print(MathOperations.add_numbers(10, 5))\n",
        "print(MathOperations.subtract_numbers(10, 5))"
      ],
      "metadata": {
        "id": "AL00-ifv5IGK"
      },
      "execution_count": null,
      "outputs": []
    },
    {
      "cell_type": "code",
      "source": [
        "# Implement a class Person with a class method to count the total number of persons created\n",
        "\n",
        "class Person:\n",
        "    total_persons = 0\n",
        "\n",
        "    def __init__(self, name):\n",
        "        self.name = name\n",
        "        Person.total_persons += 1\n",
        "\n",
        "    @classmethod\n",
        "    def get_total_persons(cls):\n",
        "        return f\"Total persons created: {cls.total_persons}\"\n",
        "\n",
        "p1 = Person(\"Alice\")\n",
        "p2 = Person(\"Bob\")\n",
        "p3 = Person(\"Charlie\")\n",
        "\n",
        "print(Person.get_total_persons())"
      ],
      "metadata": {
        "id": "W26WsW5L5jd4"
      },
      "execution_count": null,
      "outputs": []
    },
    {
      "cell_type": "code",
      "source": [
        "# Write a class Fraction with attributes numerator and denominator. Override the str method to display the fraction as \"numerator/denominator\".\n",
        "class Fraction:\n",
        "    def __init__(self, numerator, denominator):\n",
        "        if denominator == 0:\n",
        "            raise ValueError(\"Denominator cannot be zero\")\n",
        "        self.numerator = numerator\n",
        "        self.denominator = denominator\n",
        "\n",
        "    def __str__(self):\n",
        "        return f\"{self.numerator}/{self.denominator}\"\n",
        "\n",
        "frac1 = Fraction(3, 4)\n",
        "frac2 = Fraction(5, 8)\n",
        "\n",
        "print(frac1)\n",
        "print(frac2)"
      ],
      "metadata": {
        "id": "F6yuKnhA5v-S"
      },
      "execution_count": null,
      "outputs": []
    },
    {
      "cell_type": "code",
      "source": [
        "# Demonstrate operator overloading by creating a class Vector and overriding the add method to add two vectors\n",
        "class Vector:\n",
        "    def __init__(self, x, y):\n",
        "        self.x = x\n",
        "        self.y = y\n",
        "\n",
        "    def __add__(self, other):\n",
        "        return Vector(self.x + other.x, self.y + other.y)\n",
        "                def __str__(self):\n",
        "        return f\"({self.x}, {self.y})\"\n",
        "\n",
        "v1 = Vector(1, 2)\n",
        "v2 = Vector(3, 4)\n",
        "\n",
        "result = v1 + v2\n",
        "\n",
        "print(result)\n",
        "print(f\"Vector 1: {v1}\")\n",
        "print(f\"Vector 2: {v2}\")\n",
        "\n"
      ],
      "metadata": {
        "id": "5I7qgQN26BHj"
      },
      "execution_count": null,
      "outputs": []
    },
    {
      "cell_type": "code",
      "source": [
        "#  Create a class Person with attributes name and age. Add a method greet() that prints \"Hello, my name is {name} and I am {age} years old.\"\n",
        "\n",
        "class Person:\n",
        "    def __init__(self, name, age):\n",
        "        self.name = name\n",
        "        self.age = age\n",
        "\n",
        "    def greet(self):\n",
        "        print(f\"Hello, my name is {self.name} and I am {self.age} years old.\")\n",
        "\n",
        "\n",
        "person1 = Person(\"Alice\", 25)\n",
        "person2 = Person(\"Bob\", 30)\n",
        "\n",
        "person1.greet()\n",
        "person2.greet()"
      ],
      "metadata": {
        "id": "X7DjRDfw6g0x"
      },
      "execution_count": null,
      "outputs": []
    },
    {
      "cell_type": "code",
      "source": [
        "# Implement a class Student with attributes name and grades. Create a method average_grade() to compute the average of the grades.\n",
        "\n",
        "class Student:\n",
        "    def __init__(self, name, grades):\n",
        "        self.name = name\n",
        "        self.grades = grades\n",
        "\n",
        "    def average_grade(self):\n",
        "        if not self.grades:\n",
        "            return \"No grades available\"\n",
        "        return sum(self.grades) / len(self.grades)\n",
        "\n",
        "    def __str__(self):\n",
        "        return f\"Student: {self.name}, Grades: {self.grades}, Average: {self.average_grade():.2f}\"\n",
        "\n",
        "student1 = Student(\"Alice\", [85, 90, 78, 92])\n",
        "student2 = Student(\"Bob\", [70, 75, 80])\n",
        "\n",
        "print(student1)\n",
        "print(student2)"
      ],
      "metadata": {
        "id": "l8R4rkOn6vZz"
      },
      "execution_count": null,
      "outputs": []
    },
    {
      "cell_type": "code",
      "source": [
        "# Create a class Rectangle with methods set_dimensions() to set the dimensions and area() to calculate thearea.\n",
        "class Rectangle:\n",
        "    def __init__(self, length=0, width=0):\n",
        "        self.length = length\n",
        "        self.width = width\n",
        "\n",
        "    def set_dimensions(self, length, width):\n",
        "        self.length = length\n",
        "        self.width = width\n",
        "        def area(self):\n",
        "        return self.length * self.width\n",
        "        def __str__(self):\n",
        "        return f\"Rectangle: Length={self.length}, Width={self.width}, Area={self.area()}\"\n",
        "\n",
        "print(f\"Area of the rectangle: {rect.area()}\")\n"
      ],
      "metadata": {
        "colab": {
          "base_uri": "https://localhost:8080/",
          "height": 106
        },
        "collapsed": true,
        "id": "uRm3cE117CCD",
        "outputId": "385bbfcf-a368-444f-a9ea-1e2506991b07"
      },
      "execution_count": 1,
      "outputs": [
        {
          "output_type": "error",
          "ename": "IndentationError",
          "evalue": "expected an indented block after function definition on line 10 (<ipython-input-1-501f8f9d8692>, line 11)",
          "traceback": [
            "\u001b[0;36m  File \u001b[0;32m\"<ipython-input-1-501f8f9d8692>\"\u001b[0;36m, line \u001b[0;32m11\u001b[0m\n\u001b[0;31m    return self.length * self.width\u001b[0m\n\u001b[0m    ^\u001b[0m\n\u001b[0;31mIndentationError\u001b[0m\u001b[0;31m:\u001b[0m expected an indented block after function definition on line 10\n"
          ]
        }
      ]
    },
    {
      "cell_type": "code",
      "source": [
        "# Create a class Product with attributes name, price, and quantity. Implement a method total_price() that calculates the total price of the product\n",
        "class Product:\n",
        "    def __init__(self, name, price, quantity):\n",
        "        self.name = name\n",
        "        self.price = price\n",
        "        self.quantity = quantity\n",
        "\n",
        "    def total_price(self):\n",
        "        return self.price * self.quantity\n",
        "        def __str__(self):\n",
        "         return f\"Product: {self.name}, Price: ${self.price:.2f}, Quantity: {self.quantity}, Total Price: ${self.total_price():.2f}\"\n",
        "\n",
        "product1 = Product(\"Laptop\", 999.99, 2)\n",
        "product2 = Product(\"Smartphone\", 499.99, 3)\n",
        "\n",
        "print(product1)\n",
        "print(product2)"
      ],
      "metadata": {
        "id": "TD1TUUnZ7ThX"
      },
      "execution_count": null,
      "outputs": []
    }
  ]
}